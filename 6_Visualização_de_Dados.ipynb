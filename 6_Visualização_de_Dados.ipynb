{
  "nbformat": 4,
  "nbformat_minor": 0,
  "metadata": {
    "colab": {
      "name": "6.Visualização de Dados.ipynb",
      "provenance": [],
      "collapsed_sections": [],
      "toc_visible": true,
      "authorship_tag": "ABX9TyOl8e1yiNu9VPazo/l9JmXk",
      "include_colab_link": true
    },
    "kernelspec": {
      "name": "python3",
      "display_name": "Python 3"
    },
    "language_info": {
      "name": "python"
    }
  },
  "cells": [
    {
      "cell_type": "markdown",
      "metadata": {
        "id": "view-in-github",
        "colab_type": "text"
      },
      "source": [
        "<a href=\"https://colab.research.google.com/github/Edivaldo16/visualizacao_de_dados/blob/main/6_Visualiza%C3%A7%C3%A3o_de_Dados.ipynb\" target=\"_parent\"><img src=\"https://colab.research.google.com/assets/colab-badge.svg\" alt=\"Open In Colab\"/></a>"
      ]
    },
    {
      "cell_type": "code",
      "metadata": {
        "id": "RSoAETj75WYi"
      },
      "source": [
        ""
      ],
      "execution_count": null,
      "outputs": []
    },
    {
      "cell_type": "markdown",
      "metadata": {
        "id": "JLk3oeFC5jtF"
      },
      "source": [
        "# Visualiação de Dados"
      ]
    },
    {
      "cell_type": "code",
      "metadata": {
        "id": "l6pG9Tq65pk7"
      },
      "source": [
        "# Comando mostrar valores decrescentes\n",
        "\n",
        "df[\"LojaID\"].value_counts(ascending = False)"
      ],
      "execution_count": null,
      "outputs": []
    },
    {
      "cell_type": "code",
      "metadata": {
        "id": "AeJj9qW96CR_"
      },
      "source": [
        "# Gráfico de Barras Verticais\n",
        "\n",
        "df[\"LojaID\"].value_counts(ascending = False).plot.bar();"
      ],
      "execution_count": null,
      "outputs": []
    },
    {
      "cell_type": "code",
      "metadata": {
        "id": "731JQLAQ6fSh"
      },
      "source": [
        "# Gráfico de Barras Horizontais\n",
        "\n",
        "df[\"LojaID\"].value_counts(ascending = False).plot.barh();"
      ],
      "execution_count": null,
      "outputs": []
    },
    {
      "cell_type": "code",
      "metadata": {
        "id": "givjY-Ta6hgQ"
      },
      "source": [
        "# Gráfico de Barras Horizontais (Invertido)\n",
        "\n",
        "df[\"LojaID\"].value_counts(ascending = True).plot.barh();"
      ],
      "execution_count": null,
      "outputs": []
    },
    {
      "cell_type": "code",
      "metadata": {
        "id": "HqMBvUFo7fsD"
      },
      "source": [
        "# Gráfico de Pizza\n",
        "\n",
        "df.groupby(df[\"Data\"].dt.year)[\"Receita\"].sum().plot.pie();"
      ],
      "execution_count": null,
      "outputs": []
    },
    {
      "cell_type": "code",
      "metadata": {
        "id": "SwfPAESY744i"
      },
      "source": [
        "# Local vendas por cidade\n",
        "\n",
        "df[\"Cidade\"].value_counts()"
      ],
      "execution_count": null,
      "outputs": []
    },
    {
      "cell_type": "code",
      "metadata": {
        "id": "AFG7tRkZ8FlK"
      },
      "source": [
        "# Adicionando um título e alterando o nome dos eixos\n",
        "\n",
        "import matplotlib.pyplot as plt\n",
        "\n",
        "df[\"Cidade\"].value_counts().plot.bar(title=\"Vivendo e Aprendendo\")\n",
        "plt.xlabel(\"Cidade\");\n",
        "plt.ylabel(\"Total Vendas\");"
      ],
      "execution_count": null,
      "outputs": []
    },
    {
      "cell_type": "code",
      "metadata": {
        "id": "aM2TW37j_z8N"
      },
      "source": [
        "# Alterando a cor\n",
        "\n",
        "df[\"Cidade\"].value_counts().plot.bar(title=\"Vivendo e Aprendendo\", color=\"red\")\n",
        "plt.xlabel(\"Cidade\");\n",
        "plt.ylabel(\"Total Vendas\");"
      ],
      "execution_count": null,
      "outputs": []
    },
    {
      "cell_type": "code",
      "metadata": {
        "id": "ZnzfITz5__Y0"
      },
      "source": [
        "# Alterando o estilo\n",
        "\n",
        "plt.style.use('ggplot') # Site com outros estilos: https://matplotlib.org/stable/gallery/style_sheets/style_sheets_reference.html\n",
        "df.groupby(df[\"mes_venda\"])[\"Qtde\"].sum.plot()\n",
        "plt.xlabel(\"Mês\");\n",
        "plt.ylabel(\"Total Produtos Vendidos\");\n",
        "plt.legend()"
      ],
      "execution_count": null,
      "outputs": []
    },
    {
      "cell_type": "code",
      "metadata": {
        "id": "llMeqUz0DA42"
      },
      "source": [
        ""
      ],
      "execution_count": null,
      "outputs": []
    },
    {
      "cell_type": "code",
      "metadata": {
        "id": "BT107EitA2VE"
      },
      "source": [
        "# Selecionando as vendas de 2019\n",
        "\n",
        "df_2019 = df[df[\"Ano_Venda\"] == 2019]\n",
        "\n",
        "df_2019.groupby(df_2019[\"mes_venda\"])[\"Qtde\"].sum.plot(marker = \"o\") # Pesquisar por outros marcadores\n",
        "plt.xlabel(\"Mês\");\n",
        "plt.ylabel(\"Total Produtos Vendidos\");\n",
        "plt.legend()"
      ],
      "execution_count": null,
      "outputs": []
    },
    {
      "cell_type": "code",
      "metadata": {
        "id": "JFdVx9fCEC7w"
      },
      "source": [
        "# Plotando Histograma\n",
        "\n",
        "plt.hist(df[\"Qtde\"],color = \"magenta\");\n",
        "plt.scatter(x=df_2019[\"dia_venda\"],y=df_2019[\"Receita\"])"
      ],
      "execution_count": null,
      "outputs": []
    },
    {
      "cell_type": "code",
      "metadata": {
        "id": "_uCgj988Ex1e"
      },
      "source": [
        "# Salvando em png\n",
        "\n",
        "df_2019 = df[df[\"Ano_Venda\"] == 2019]\n",
        "\n",
        "df_2019.groupby(df_2019[\"mes_venda\"])[\"Qtde\"].sum.plot(marker = \"o\") # Pesquisar por outros marcadores\n",
        "plt.xlabel(\"Mês\");\n",
        "plt.ylabel(\"Total Produtos Vendidos\");\n",
        "plt.legend()\n",
        "plt.savefig(\"teste.png\")"
      ],
      "execution_count": null,
      "outputs": []
    }
  ]
}